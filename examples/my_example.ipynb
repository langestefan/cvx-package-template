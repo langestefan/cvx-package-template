{
 "cells": [
  {
   "cell_type": "markdown",
   "id": "989d7cb4",
   "metadata": {},
   "source": [
    "# Basic example notebook"
   ]
  },
  {
   "cell_type": "code",
   "execution_count": null,
   "id": "70c35b78",
   "metadata": {},
   "outputs": [],
   "source": [
    "import sys\n",
    "print(sys.version)"
   ]
  },
  {
   "cell_type": "code",
   "execution_count": null,
   "id": "5aae7dbf",
   "metadata": {},
   "outputs": [],
   "source": []
  }
 ],
 "metadata": {
  "kernelspec": {
   "display_name": "Python 3",
   "language": "python",
   "name": "python3"
  },
  "language_info": {
   "name": "python",
   "version": "3.8.2"
  }
 },
 "nbformat": 4,
 "nbformat_minor": 5
}
